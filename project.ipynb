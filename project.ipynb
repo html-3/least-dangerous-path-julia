{
 "cells": [
  {
   "cell_type": "code",
   "execution_count": 37,
   "metadata": {},
   "outputs": [],
   "source": [
    "using JuMP\n",
    "using Clp, HiGHS, Ipopt\n",
    "using Plots\n",
    "using LinearAlgebra\n",
    "using NamedArrays\n",
    "using Graphs, GraphPlot, SimpleWeightedGraphs\n",
    "\n",
    "Plots.gr();"
   ]
  },
  {
   "cell_type": "code",
   "execution_count": 38,
   "metadata": {},
   "outputs": [
    {
     "name": "stdout",
     "output_type": "stream",
     "text": [
      "5×5 Matrix{Float64}:\n",
      " 0.0    0.007  0.018  0.007  0.0\n",
      " 0.007  0.135  0.368  0.135  0.007\n",
      " 0.018  0.368  1.0    0.368  0.018\n",
      " 0.007  0.135  0.368  0.135  0.007\n",
      " 0.0    0.007  0.018  0.007  0.0"
     ]
    },
    {
     "data": {
      "text/plain": [
       "f (generic function with 1 method)"
      ]
     },
     "metadata": {},
     "output_type": "display_data"
    }
   ],
   "source": [
    "# Basic terrain cost field for initial pathing tests\n",
    "\n",
    "basicTerrain(x, y) = exp(-1(x^2 + y^2))\n",
    "\n",
    "# Interpret as going from -boundary to boundary in resolution steps\n",
    "boundary = 2\n",
    "resolution = 1\n",
    "\n",
    "# Generate discrete field\n",
    "discreteField = zeros(boundary * resolution * 2 + 1, boundary * resolution * 2 + 1)\n",
    "\n",
    "for i in 1:resolution*boundary*2+1\n",
    "  for j in 1:resolution*boundary*2+1\n",
    "    \n",
    "    # Rearange axis\n",
    "    x = (i - resolution * boundary - 1) / resolution\n",
    "    y = (j - resolution * boundary - 1) / resolution\n",
    "    discreteField[i,j] = round(basicTerrain(x,y), digits=3)\n",
    "  \n",
    "  end\n",
    "end\n",
    "\n",
    "# Show graph\n",
    "show(stdout, \"text/plain\", discreteField)\n",
    "\n",
    "f(x, y) = sin(x) + cos(y)\n",
    "#surface(-boundary:0.1/resolution:boundary, -boundary:0.1/resolution:boundary, basicTerrain)"
   ]
  },
  {
   "cell_type": "code",
   "execution_count": 39,
   "metadata": {},
   "outputs": [
    {
     "data": {
      "text/plain": [
       "25×25 Named Matrix{Float64}\n",
       "Origin ╲ Destiny │     1      2      3      4  …     22     23     24     25\n",
       "─────────────────┼──────────────────────────────────────────────────────────\n",
       "1                │   Inf  0.007    Inf    Inf  …    Inf    Inf    Inf    Inf\n",
       "2                │ 0.007    Inf  0.011    Inf       Inf    Inf    Inf    Inf\n",
       "3                │   Inf  0.011    Inf  0.011       Inf    Inf    Inf    Inf\n",
       "4                │   Inf    Inf  0.011    Inf       Inf    Inf    Inf    Inf\n",
       "5                │   Inf    Inf    Inf  0.007       Inf    Inf    Inf    Inf\n",
       "6                │ 0.007    Inf    Inf    Inf       Inf    Inf    Inf    Inf\n",
       "7                │   Inf  0.128    Inf    Inf       Inf    Inf    Inf    Inf\n",
       "8                │   Inf    Inf   0.35    Inf       Inf    Inf    Inf    Inf\n",
       "⋮                      ⋮      ⋮      ⋮      ⋮  ⋱      ⋮      ⋮      ⋮      ⋮\n",
       "18               │   Inf    Inf    Inf    Inf       Inf   0.35    Inf    Inf\n",
       "19               │   Inf    Inf    Inf    Inf       Inf    Inf  0.128    Inf\n",
       "20               │   Inf    Inf    Inf    Inf       Inf    Inf    Inf  0.007\n",
       "21               │   Inf    Inf    Inf    Inf     0.007    Inf    Inf    Inf\n",
       "22               │   Inf    Inf    Inf    Inf       Inf  0.011    Inf    Inf\n",
       "23               │   Inf    Inf    Inf    Inf     0.011    Inf  0.011    Inf\n",
       "24               │   Inf    Inf    Inf    Inf       Inf  0.011    Inf  0.007\n",
       "25               │   Inf    Inf    Inf    Inf  …    Inf    Inf  0.007    Inf"
      ]
     },
     "metadata": {},
     "output_type": "display_data"
    }
   ],
   "source": [
    "# Text discrete field matrix\n",
    "#discreteField = [1 4 7; \n",
    "#                 2 5 8; \n",
    "#                 3 6 9]\n",
    "\n",
    "# Conection matrix from discrete field\n",
    "connectionMatrix = fill(Inf, (length(discreteField), length(discreteField)))\n",
    "\n",
    "# Dimensions from discrete field are usefull\n",
    "verticalSize = size(discreteField, 1)\n",
    "horizontalSize = size(discreteField, 2)\n",
    "\n",
    "#println(\"verticalSize \", verticalSize)\n",
    "#println(\"horizontalSize \", horizontalSize)\n",
    "\n",
    "# Complete conection matrix\n",
    "# Algorithm has complexity O(n²)\n",
    "for j in axes(discreteField, 2)\n",
    "  for i in axes(discreteField, 1)\n",
    "    # Matrix is iterated from top to bottom\n",
    "    # then from left to right\n",
    "    loc = (j - 1) * verticalSize + i\n",
    "    #println((i,j),\" \", loc)\n",
    "\n",
    "    # Not at left boundary\n",
    "    if loc > verticalSize\n",
    "      #println(\"Left connection at \", (i,j), \" to \", (i,j - 1))\n",
    "      connectionMatrix[loc,loc - horizontalSize] = abs(discreteField[i,j] - discreteField[i,j - 1])\n",
    "    end\n",
    "\n",
    "    # Not at right boundary\n",
    "    if loc ≤ verticalSize * (horizontalSize - 1)\n",
    "      #println(\"Right connection at \", (i,j), \" to \", (i,j + 1))\n",
    "      connectionMatrix[loc,loc + horizontalSize] = abs(discreteField[i,j] - discreteField[i,j + 1])\n",
    "    end\n",
    "    \n",
    "    # Not at bottom boundary\n",
    "    if loc % verticalSize != 0\n",
    "      #println(\"Lower connection at \", (i,j), \" to \", (i + 1,j))\n",
    "      connectionMatrix[loc,loc + 1] = abs(discreteField[i,j] - discreteField[i + 1,j])\n",
    "    end\n",
    "\n",
    "    # Not at top boundary\n",
    "    if loc % verticalSize != 1\n",
    "      #println(\"Upper connection at \", (i,j), \" to \", (i - 1,j))\n",
    "      connectionMatrix[loc,loc - 1] = abs(discreteField[i,j] - discreteField[i - 1,j])\n",
    "    end\n",
    "  end\n",
    "end\n",
    "\n",
    "#connectionMatrix[connectionMatrix.==Inf] .= 0\n",
    "\n",
    "# Visually clear matrix\n",
    "namedArray = NamedArray(connectionMatrix)\n",
    "setdimnames!(namedArray, (\"Origin\", \"Destiny\"));\n",
    "namedArray"
   ]
  },
  {
   "cell_type": "code",
   "execution_count": 41,
   "metadata": {},
   "outputs": [
    {
     "name": "stdout",
     "output_type": "stream",
     "text": [
      "Cost 1.0\n",
      "25×25 Matrix{Float64}:\n",
      "  0.0   0.0   0.0   0.0  0.0  0.0  0.0   0.0  0.0  0.0    0.0  0.0   0.0     0.0   0.0    0.0  0.0   0.0  0.0   0.0  0.0  0.0  0.0   0.0   0.0\n",
      " -0.0   0.0   0.0   0.0  0.0  0.0  0.0   0.0  0.0  0.0    0.0  0.0   0.0     0.0   0.0    0.0  0.0   0.0  0.0   0.0  0.0  0.0  0.0   0.0   0.0\n",
      "  0.0  -0.0   0.0   0.0  0.0  0.0  0.0   0.0  0.0  0.0    0.0  0.0   0.0     0.0   0.0    0.0  0.0   0.0  0.0   0.0  0.0  0.0  0.0   0.0   0.0\n",
      "  0.0   0.0  -0.0   0.0  0.0  0.0  0.0   0.0  0.0  0.0    0.0  0.0   0.0     0.0   0.0    0.0  0.0   0.0  0.0   0.0  0.0  0.0  0.0   0.0   0.0\n",
      "  0.0   0.0   0.0  -0.0  0.0  0.0  0.0   0.0  0.0  0.007  0.0  0.0   0.0     0.0   0.0    0.0  0.0   0.0  0.0   0.0  0.0  0.0  0.0   0.0   0.0\n",
      "  0.0   0.0   0.0   0.0  0.0  0.0  0.0   0.0  0.0  0.0    0.0  0.0   0.0     0.0   0.0    0.0  0.0   0.0  0.0   0.0  0.0  0.0  0.0   0.0   0.0\n",
      "  0.0   0.0   0.0   0.0  0.0  0.0  0.0  -0.0  0.0  0.0    0.0  0.0   0.0     0.0   0.0    0.0  0.0   0.0  0.0   0.0  0.0  0.0  0.0   0.0   0.0\n",
      "  0.0   0.0   0.0   0.0  0.0  0.0  0.0   0.0  0.0  0.0    0.0  0.0  -0.0     0.0   0.0    0.0  0.0   0.0  0.0   0.0  0.0  0.0  0.0   0.0   0.0\n",
      "  0.0   0.0   0.0   0.0  0.0  0.0  0.0   0.0  0.0  0.0    0.0  0.0   0.0    -0.0   0.0    0.0  0.0   0.0  0.0   0.0  0.0  0.0  0.0   0.0   0.0\n",
      "  0.0   0.0   0.0   0.0  0.0  0.0  0.0   0.0  0.0  0.0    0.0  0.0   0.0     0.0   0.011  0.0  0.0   0.0  0.0   0.0  0.0  0.0  0.0   0.0   0.0\n",
      "  0.0   0.0   0.0   0.0  0.0  0.0  0.0   0.0  0.0  0.0    0.0  0.0   0.0     0.0   0.0    0.0  0.0   0.0  0.0   0.0  0.0  0.0  0.0   0.0   0.0\n",
      "  0.0   0.0   0.0   0.0  0.0  0.0  0.0   0.0  0.0  0.0    0.0  0.0  -0.0     0.0   0.0    0.0  0.0   0.0  0.0   0.0  0.0  0.0  0.0   0.0   0.0\n",
      "  0.0   0.0   0.0   0.0  0.0  0.0  0.0   0.0  0.0  0.0    0.0  0.0   0.0     0.0   0.0    0.0  0.0   0.0  0.0   0.0  0.0  0.0  0.0   0.0   0.0\n",
      "  0.0   0.0   0.0   0.0  0.0  0.0  0.0   0.0  0.0  0.0    0.0  0.0   0.632   0.0   0.0    0.0  0.0   0.0  0.0   0.0  0.0  0.0  0.0   0.0   0.0\n",
      "  0.0   0.0   0.0   0.0  0.0  0.0  0.0   0.0  0.0  0.0    0.0  0.0   0.0     0.35  0.0    0.0  0.0   0.0  0.0  -0.0  0.0  0.0  0.0   0.0   0.0\n",
      "  0.0   0.0   0.0   0.0  0.0  0.0  0.0   0.0  0.0  0.0    0.0  0.0   0.0     0.0   0.0    0.0  0.0   0.0  0.0   0.0  0.0  0.0  0.0   0.0   0.0\n",
      "  0.0   0.0   0.0   0.0  0.0  0.0  0.0   0.0  0.0  0.0    0.0  0.0   0.0     0.0   0.0    0.0  0.0  -0.0  0.0   0.0  0.0  0.0  0.0   0.0   0.0\n",
      "  0.0   0.0   0.0   0.0  0.0  0.0  0.0   0.0  0.0  0.0    0.0  0.0  -0.0     0.0   0.0    0.0  0.0   0.0  0.0   0.0  0.0  0.0  0.0   0.0   0.0\n",
      "  0.0   0.0   0.0   0.0  0.0  0.0  0.0   0.0  0.0  0.0    0.0  0.0   0.0    -0.0   0.0    0.0  0.0   0.0  0.0   0.0  0.0  0.0  0.0   0.0   0.0\n",
      "  0.0   0.0   0.0   0.0  0.0  0.0  0.0   0.0  0.0  0.0    0.0  0.0   0.0     0.0   0.0    0.0  0.0   0.0  0.0   0.0  0.0  0.0  0.0   0.0  -0.0\n",
      "  0.0   0.0   0.0   0.0  0.0  0.0  0.0   0.0  0.0  0.0    0.0  0.0   0.0     0.0   0.0    0.0  0.0   0.0  0.0   0.0  0.0  0.0  0.0   0.0   0.0\n",
      "  0.0   0.0   0.0   0.0  0.0  0.0  0.0   0.0  0.0  0.0    0.0  0.0   0.0     0.0   0.0    0.0  0.0   0.0  0.0   0.0  0.0  0.0  0.0   0.0   0.0\n",
      "  0.0   0.0   0.0   0.0  0.0  0.0  0.0   0.0  0.0  0.0    0.0  0.0   0.0     0.0   0.0    0.0  0.0   0.0  0.0   0.0  0.0  0.0  0.0   0.0   0.0\n",
      "  0.0   0.0   0.0   0.0  0.0  0.0  0.0   0.0  0.0  0.0    0.0  0.0   0.0     0.0   0.0    0.0  0.0   0.0  0.0   0.0  0.0  0.0  0.0   0.0   0.0\n",
      "  0.0   0.0   0.0   0.0  0.0  0.0  0.0   0.0  0.0  0.0    0.0  0.0   0.0     0.0   0.0    0.0  0.0   0.0  0.0   0.0  0.0  0.0  0.0  -0.0   0.0"
     ]
    }
   ],
   "source": [
    "connectionMatrix[connectionMatrix.==Inf] .= 0\n",
    "\n",
    "#connectionMatrix = [0 2 1 0 0;\n",
    "#                    2 0 0 0 1;\n",
    "#                    1 0 0 1 0;\n",
    "#                    0 0 1 0 1;\n",
    "#                    0 1 0 1 0\n",
    "#                    ]\n",
    "\n",
    "#connectionMatrix = [0 1 2 0 0;\n",
    "#                    1 0 0 0 3;\n",
    "#                    2 0 0 1 0;\n",
    "#                    0 0 1 0 1;\n",
    "#                    0 3 0 1 0\n",
    "#                    ]\n",
    "\n",
    "n = size(connectionMatrix, 1)\n",
    "b = zeros(1,n)\n",
    "start = 5\n",
    "b[start] = 1\n",
    "b[n ÷ 2 + 1] = -1\n",
    "m = Model(HiGHS.Optimizer)\n",
    "set_silent(m)\n",
    "\n",
    "# Choice binary matrix\n",
    "@variable(m, x[1:n, 1:n], Bin)\n",
    "\n",
    "# Paths with cost zero should be ignored\n",
    "@constraint(m, [i = 1:n, j = 1:n; connectionMatrix[i, j] == 0], x[i, j] == 0)\n",
    "\n",
    "# Flow conservation constraint\n",
    "@constraint(m, [i = 1:n], sum(x[i, :]) - sum(x[:, i]) == b[i],)\n",
    "\n",
    "@objective(m, Min, sum(connectionMatrix .* x))\n",
    "optimize!(m)\n",
    "println(\"Cost \", objective_value(m))\n",
    "\n",
    "#= path = [start]\n",
    "for j in 1:n\n",
    "  if sum(value.(x)[:,j]) == 1\n",
    "    push!(path, j)\n",
    "  end\n",
    "end\n",
    " =#\n",
    "\n",
    "show(IOContext(stdout, :limit => false, :displaysize => (30,30)), MIME\"text/plain\"(), connectionMatrix .* value.(x))\n"
   ]
  }
 ],
 "metadata": {
  "kernelspec": {
   "display_name": "Julia 1.8.2",
   "language": "julia",
   "name": "julia-1.8"
  },
  "language_info": {
   "file_extension": ".jl",
   "mimetype": "application/julia",
   "name": "julia",
   "version": "1.8.2"
  },
  "orig_nbformat": 4,
  "vscode": {
   "interpreter": {
    "hash": "916dbcbb3f70747c44a77c7bcd40155683ae19c65e1c03b4aa3499c5328201f1"
   }
  }
 },
 "nbformat": 4,
 "nbformat_minor": 2
}
