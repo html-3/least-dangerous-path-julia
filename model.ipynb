{
 "cells": [
  {
   "cell_type": "markdown",
   "metadata": {},
   "source": [
    "# Least Dangerous Path\n",
    "Introdução a Otimização (COM361)\n",
    "\n",
    "Professor Amit Bhaya \n",
    "2022.2\n",
    "\n",
    "Henrique Marques Lozano (henriquemarques@poli.ufrj.br), Matheus Gomes Rocha (matheusxvtb@poli.ufrj.br)\n",
    "\n",
    "\n",
    "### Índice\n",
    "\n",
    "1. Introdução\n",
    "2. Modelo Matemático\n",
    "3. Solução\n",
    "4. Resultados e Discussão\n",
    "5. Subseção Opcional\n",
    "6. Conclusão\n",
    "7. Referências bibliográficas"
   ]
  },
  {
   "cell_type": "markdown",
   "metadata": {
    "collapsed": true
   },
   "source": [
    "## 1. Introdução ##\n",
    "\n",
    "É notório que, há noticias sobre acidentes envolvendo rotas perigosas na televisão, tal qual, um Uber entrando em zonas perigosas no estado do Rio de Janeiro: \n",
    "\n",
    "-[homem e morto a tiros em acesso ao complexo do chapadao](https://g1.globo.com/rj/rio-de-janeiro/noticia/2022/10/27/homem-e-morto-a-tiros-em-acesso-ao-complexo-do-chapadao.ghtml). \n",
    "\n",
    "Famílias entrando em zonas gélidas e perdendo o controle do carro e consequentemente sofrendo um acidente: \n",
    "\n",
    "-[Woman killed after her car loses control on icy I-35W ramp in Minneapolis](https://www.cbsnews.com/minnesota/news/woman-killed-after-her-car-loses-control-on-i-35w-ramp-in-minneapolis/). \n",
    "\n",
    "Ou caminhos onde o trajeto é totalmente inacessível pois há muitos locais danificados pelo tempo, a ideia primordial por trás desse trabalho é criar um algoritmo que consiga traçar rotas seguras e eficientes independentes do relevo, seja ele alto, baixo, obtuso, entre outras formas de relevo e com menor custo e risco para o usuário, de forma que ela consiga sair do seu ponto inicial e ir até o seu ponto final de destino da melhor forma possível, e claro, segura.\n",
    "\n",
    "\n",
    "Vamos iniciar a criação do código da seguinte forma, primeiros criaremos o terreno no qual será feito os testes, será feita uma analise minuciosa para decidir quais serão as restrições do problema, por exemplo: Terrenos muito íngremes, com formatos muito repetidos, cumes muito acentuados e crateras, ou então, rever se o algoritmo está criando um caminho possível de ser realizado, cada situação será analisada de forma prática para que se assemelhe a realidade. Será de suma importância a utilização do Algoritmo de Dijkstra para cálculo do Caminho de Custo Mínimo. Com o algoritmo de Dijkstra, você poderá encontrar o caminho de menor custo entre nós em um grafo. Particularmente, você poderá encontrar o caminho de menor custo entre um nó (denominado “origem”) e todos os outros nós do grafo, produzindo uma árvore de custo mínimo. Este algoritmo é usado em dispositivos GPS para encontrar o caminho mais curto entre a localização atual e o destino.\n",
    "\n",
    "\n"
   ]
  },
  {
   "attachments": {},
   "cell_type": "markdown",
   "metadata": {
    "collapsed": true
   },
   "source": [
    "## 2. Modelo matemático ##\n",
    "\n",
    "O problema do caminho mais curto/seguro é talvez o problema mais famoso e importante na otimização de redes. Ele encontra um caminho de um determinado nó de origem para um determinado nó de destino com o/a menor/maior custo/segurança de/do caminho. Mas, no nosso caso, vamos utilizar a altura do nosso relevo, considere como se fosse o esforço para conseguir subir um degrau, ou como no exemplo abaixo, o senhor Gato quer pegar o senhor Rato, mas, ele apenas pode pular em uma altura de 1 bloco, pois, se caso tente pular em um bloco que possui 2 de altura, ele certamente cairá e vai se machucar (Por motivos médicos, o Senhor Gato não consegue cair de pé), logo, o caminho mais seguro a se fazer é 'A -> D -> E -> C', esse é um caso especial do problema de fluxo de rede de custo mínimo; portanto, o problema do caminho mais curto pode ser resolvido como um problema de programação linear, e utilizando o Algorítmo de Dijkstra. A partir da matriz discreta do terreno, devemos entender, qual o custo de deslocar-se de um ponto A a outro B. Assumindo MRU sem atrito, a unica variacao de energia ocorre com a mudanca de altura. Para esse caso, subir uma altura $ h $ custa a mesma energia que descer ela. Com isso em mente, geramos uma matriz quadrada com linhas que representam os nos de origem e as colunas os nos de saida. Essa matriz é simetrica na diagonal e preenchida pelas diferencas de altura entre pontos adjacentes. um exemplo desse problema é:\n",
    "\n",
    "\n",
    "![fixit flowchart][Esquema, exemplo]\n",
    "\n",
    "[Esquema, exemplo]: https://user-images.githubusercontent.com/81640187/209411044-c5027f47-23cf-454d-aa22-4fb168731343.png\n",
    "\n",
    "Abaixo, há um modelo matemático simples de problema de custo/esforço mínimo que utilizamos como base:\n",
    "\n",
    "$$\n",
    "\\begin{aligned}\n",
    "\\min_{x} \\sum_{i=1}^n \\sum_{j \\in S(i)} c_{ij} x_{ij} \\\\\n",
    "\\end{aligned}\n",
    "$$\n",
    "\n",
    "Sujeito a:\n",
    "$$\n",
    "\\begin{aligned}\n",
    "\\sum_{j \\in S(1)} x_{1j} = 1 \n",
    "\\end{aligned}\n",
    "\\\\\n",
    "\n",
    "\\begin{aligned}\n",
    "\\sum_{i \\in A(n)} x_{in} = 1\n",
    "\\end{aligned}\n",
    "\\\\\n",
    "\n",
    "\\begin{aligned}\n",
    "\\sum_{i \\in A(j)} x_{ij} = \\sum_{k \\in S(j)} x_{jk}, j = 2, ..., n-1. \n",
    "\\end{aligned}\n",
    "\n",
    "$$\n",
    "\n",
    "$$\n",
    "\\begin{aligned}\n",
    "     \\text{Esse modelo matemático para o problema de caminho menos custoso do nó 1 de origem até o nó $ n $, de um grafo qualquer G=(N, E), N={1, 2, ..., n.} }\n",
    "\\end{aligned}\n",
    "$$\n",
    "\n",
    "\n",
    "A variável escolhida é :\n",
    "\\begin{aligned} x_{ij} \\in (0, 1) \\implies \\text{Ativação, ou não do arco(i, j)}\n",
    "\\end{aligned}\n",
    "\n",
    "Com os parâmetros :\n",
    "\\begin{aligned} c_{ij} \\implies \\text{Custo unitário do fluxo em(i, j)}\n",
    "\\end{aligned}\n",
    "\n",
    "\\begin{aligned} S_{j} \\implies \\text{É o conjuto dos nós subsequentes de j}\n",
    "\\end{aligned}\n",
    "\n",
    "\\begin{aligned} A_{j} \\implies \\text{É o conjuto dos nós anteriores de j}\n",
    "\\end{aligned}\n",
    "\n",
    "Com toda a modelagem feita, colocaremos o algoritmo de Dijkstra em ação, tal esse que é a solução para o problema em que foi proposto, de caminho de mínimo esforço. Funciona fundamentalmente em grafos não orientados e orientados, mas, as arestas em questão apenas podem possuir valores positivos. \n",
    "\n",
    "Para a entrada, deverá ser um Grafo ponderado:\n",
    "\n",
    "\\begin{aligned}\n",
    " G=(N, E) \n",
    "\\end{aligned}\n",
    "E nó origem: \n",
    "\\begin{aligned}\n",
    " O \\in N \n",
    "\\end{aligned}\n",
    "De modo que todos os custos entre as arestas sejam positivos.\n",
    "\n",
    "A saída será o comprimento do caminho menos custoso de um nó selecionado de origem:\n",
    "\\begin{aligned}\n",
    " O \\in N \n",
    "\\end{aligned}\n",
    "Para todos os outros nós em questão.\n",
    "\n",
    "E esse fantástico algoritmo funciona da seguinte forma, ele identifica, a partir do nó de origem qual vai ser o caminho menos custoso entre ele e todos os outros do grafo. No começo, o conjunto de nós subsequentes possuem apenas o nó inicial de origem, na medida que ocorre um avanço no grafo, ele seleciona o próximo nó que está mais perto do inicial, após selecionar, a distancia entre cada nó é atualizada, com base na distancia em relação à origem, com base nesse novo ponto, a distância relativa entre nó final vai ficando cada vez menor, e essa é a sua nova posição.\n",
    "É notório que, após escolher um nó como origem da pesquisa, o algoritmo de Dijkstra calcula o caminho de menor esforço entre esse nó até os subsequentes do grafo. O procedimento é iterativo entre cada etapa e determinando, na interação 1, o nó mais próximo e menos custoso do nó de origem O, nas proximas iterações, o segundo nó mais próximo do nó O, e assim consequitivamente, até que finalmente se alcance o ponto de de destino, após n iterações.\n",
    "Considerando que há um grafo orientado G=(N, E) e p é um nó desse grafo G, inicialmente devemos colocar um valor zero à cada estimativa do esforço mínimo do nó de origem e infinito às demais estimativas.\n",
    "\n",
    "Demonstração abaixo:\n",
    "\n",
    "Onde a imagem (1) é a situação inicial, (2) intermediaria e (3) final.\n",
    "![FINAL](https://user-images.githubusercontent.com/81640187/209583441-fddfd121-24d9-483c-8bcc-18a61f875a9a.png)"
   ]
  },
  {
   "cell_type": "markdown",
   "metadata": {
    "collapsed": true
   },
   "source": [
    "## 3. Solução ##\n",
    "\n",
    "Nesta seção, coloque seu código em Julia + JuMP e resolva o problema proposto. Seu código deve ser limpo (não macarrônico!), de fácil leitura, bem comentado e anotado e deve compilar sem erros em Julia 1.x, x$\\geq 1$! Não valem códigos em outras linguagens. **Vou rodar seu código para avaliar seu projeto**. Sugiro a utilização de múltiplos blocos de códigos separados por blocos de texto (células Markdown) explicando as várias partes da sua solução. Sugiro também a resolução de várias versões do seu problema, com modelos e hipóteses diferentes.\n",
    "\n",
    "É permitido chamar pacotes externos, mas evite a utilização de bibliotecas exóticas (pois, em geral, não rodam em todas as versões de Julia, e terei que instalar a mesma versão que você usou, ou rodar na plataforma Google Colab, que gostaria de evitar)."
   ]
  },
  {
   "cell_type": "code",
   "execution_count": 3,
   "metadata": {},
   "outputs": [
    {
     "name": "stdout",
     "output_type": "stream",
     "text": [
      "O número total de cavalos é: 10.0\n",
      "O número total de jegues é: 0.0\n",
      "O número total de cabras é: 0.0\n"
     ]
    }
   ],
   "source": [
    "# Este é um exemplo de um bloco de código\n",
    "using JuMP, Clp\n",
    "m = Model(with_optimizer(Clp.Optimizer,LogLevel=0) )\n",
    "bichos = [:cavalos, :jegues, :cabras]  # estes são os bichos \n",
    "@variable(m, x[bichos] >= 0)          # as quantidades de cada um (não podem ser negativas)\n",
    "@constraint(m, sum(x) <= 10)          # não podemos ter mais de 10 no total.\n",
    "@objective(m, Max, x[:cavalos])        # queremos maximizar o número de cavalos\n",
    "optimize!(m)\n",
    "\n",
    "for i in bichos\n",
    "    println(\"O número total de \", i, \" é: \", JuMP.value.(x[i]))     # imprime o resultado na tela\n",
    "end"
   ]
  },
  {
   "cell_type": "markdown",
   "metadata": {},
   "source": [
    "**Tenha certeza de que seu código compila corretamente! Rodarei seu código!**"
   ]
  },
  {
   "cell_type": "markdown",
   "metadata": {
    "collapsed": true
   },
   "source": [
    "## 4. Resultados e discussão ##\n",
    "\n",
    "Neste seção, os resultados obtidos serão exibidos e discutidos. Mostre figuras, gráficos, imagens, curvas de compromisso, e o que mais puder melhor ilustrar seus resultados. A discussão deverá explicar o que significam os resultados e como interpretá-los. As limitações da sua abordagem/modelo também devem ser colocadas, bem como uma análise da sensibilidade dos resultados em relação às hipóteses feitas.\n",
    "\n",
    "\n",
    "Utilize plots (veja exemplos  `PyPlot` [aqui](https://gist.github.com/gizmaa/7214002))\n",
    "\n",
    "Aqui está um exemplo de uma tabela (em Markdown):\n",
    "\n",
    "| Tabelas        | São           | Boas  |\n",
    "| ------------- |:-------------:| -----:|\n",
    "| col 3 é      | alinhado à direita |\\$1600 |\n",
    "| col 2 é      | centrado      |  \\$12 |\n",
    "| texto | também serve      |   \\$1 |\n",
    "\n",
    "### 4.A. Subseções devem ser utilizadas para organizar seu texto.\n",
    "\n",
    "#### 4.A.a. ou até subsubseções."
   ]
  },
  {
   "cell_type": "markdown",
   "metadata": {
    "collapsed": true
   },
   "source": [
    "## 5. Conclusão ##\n",
    "\n",
    "Faça um resumo do que encontrou e dos seus resultados, e fale de pelo menos uma direção na qual  seu trabalho pode ser desenvolvido no futuro, algo que poderia ser interessante em decorrência do seu projeto.\n"
   ]
  },
  {
   "cell_type": "markdown",
   "metadata": {},
   "source": [
    "## 6. Referências bibliográficas ##\n",
    "\n",
    "Nesta seção, cite _*todas*_ as referências utilizadas, na formulação matemática, no código ou para extrair dados ou figuras. Omissão de fontes é transgressão grave, denominada plágio."
   ]
  }
 ],
 "metadata": {
  "@webio": {
   "lastCommId": null,
   "lastKernelId": null
  },
  "kernelspec": {
   "display_name": "Julia 1.8.0",
   "language": "julia",
   "name": "julia-1.8"
  },
  "language_info": {
   "file_extension": ".jl",
   "mimetype": "application/julia",
   "name": "julia",
   "version": "1.7.2"
  }
 },
 "nbformat": 4,
 "nbformat_minor": 1
}
