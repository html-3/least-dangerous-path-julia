{
 "cells": [
  {
   "cell_type": "code",
   "execution_count": 191,
   "metadata": {},
   "outputs": [
    {
     "data": {
      "text/plain": [
       "least_dangerous (generic function with 2 methods)"
      ]
     },
     "metadata": {},
     "output_type": "display_data"
    }
   ],
   "source": [
    "using JuMP, Ipopt\n",
    "using Plots\n",
    "\n",
    "basicTerrain(x, y) = exp(-1(x^2 + y^2)) + exp(-0.5((x-2)^2 + y^2))\n",
    "\n",
    "function potential(vec)\n",
    "    return basicTerrain(vec[1], vec[2])\n",
    "end\n",
    "\n",
    "k = 4              \n",
    "instances = zeros(Int,4)  \n",
    "wps = zeros(2,k)    \n",
    "\n",
    "instances[1] = 1\n",
    "instances[2] = 30\n",
    "instances[3] = 70\n",
    "instances[4] = 100\n",
    "\n",
    "# define waypoints\n",
    "wps = [-2 -2;\n",
    "        0  0;\n",
    "        1  0;\n",
    "       -2 -2]\n",
    "\n",
    "function least_dangerous(λ, ξ) \n",
    "\n",
    "    m = Model(Ipopt.Optimizer)\n",
    "    register(m, :basicTerrain, 2, basicTerrain, autodiff=true)\n",
    "    set_optimizer_attributes(m, \"print_level\" => 0 )\n",
    "    @variable(m, position[1:instances[k], 1:2]) # Position\n",
    "    @variable(m, velocity[1:instances[k], 1:2]) # Velocity\n",
    "    @variable(m, thrust[1:instances[k], 1:2])   # Thrust\n",
    "\n",
    "    # Dynamics (no initial velocity)\n",
    "    @constraint(m, velocity[1,:] .== [0 0])\n",
    "\n",
    "    @constraint(m, [-0.5 -0.5] .<= velocity .<= [0.5 0.5])\n",
    "    @constraint(m, [-0.5 -0.5] .<= thrust .<= [0.5 0.5])\n",
    "    \n",
    "\n",
    "\n",
    "    for t in 1:instances[k]-1\n",
    "        # Position is updated in thrust\n",
    "        @constraint(m, position[t+1,:] .== position[t,:] + velocity[t,:])\n",
    "        @NLconstraint(m, velocity[t+1,:1] == velocity[t,:1] + thrust[t,:1] + ξ * (basicTerrain(position[t,:]...) - basicTerrain(position[t+1,:]...)))\n",
    "        @NLconstraint(m, velocity[t+1,:2] == velocity[t,:2] + thrust[t,:2] + ξ * (basicTerrain(position[t,:]...) - basicTerrain(position[t+1,:]...)))\n",
    "    end\n",
    "\n",
    "    # Reach all waypoints\n",
    "    for i in [1 k]\n",
    "        @constraint(m, position[instances[i],:] .== wps[i,:])\n",
    "    end\n",
    "\n",
    "    @objective(m, Min, sum(thrust.^2) + λ * sum( (position[instances[2:k],:]-wps[2:k,:]).^2  ) )\n",
    "    optimize!(m)\n",
    "    \n",
    "    J1 = value.(sum(thrust.^2))\n",
    "    J2 = value.(sum( (position[instances[2:k],:]-wps[2:k,:]).^2  ))\n",
    "    velocity = value.(velocity)\n",
    "    thrust = value.(thrust)\n",
    "    path = value.(position)\n",
    "    \n",
    "    return (velocity,thrust,path)\n",
    "end"
   ]
  },
  {
   "cell_type": "code",
   "execution_count": 211,
   "metadata": {},
   "outputs": [],
   "source": [
    "λ = 10\n",
    "ξ = 1\n",
    "(velocity,thrust,path) = least_dangerous(λ, ξ)\n"
   ]
  },
  {
   "cell_type": "code",
   "execution_count": null,
   "metadata": {},
   "outputs": [],
   "source": [
    "plot(path[:,1], path[:,2], label=\"Trajeto\")\n",
    "scatter!(wps[:,1], wps[:,2], label=\"Destinos\")\n",
    "contour!(-3:0.1:3, -3:0.1:3, basicTerrain, color=:black, clabels=true, levels=4, cbar=false, title=\"Contorno do relevo\")"
   ]
  },
  {
   "cell_type": "code",
   "execution_count": null,
   "metadata": {},
   "outputs": [],
   "source": [
    "plot(velocity)\n",
    "plot!(thrust)\n",
    "#plot!(sqrt.(thrust[1,:].^2 + thrust[2,:].^2))\n",
    "#plot!(basicTerrain.(path...))\n"
   ]
  }
 ],
 "metadata": {
  "kernelspec": {
   "display_name": "Julia 1.8.2",
   "language": "julia",
   "name": "julia-1.8"
  },
  "language_info": {
   "file_extension": ".jl",
   "mimetype": "application/julia",
   "name": "julia",
   "version": "1.8.2"
  },
  "orig_nbformat": 4,
  "vscode": {
   "interpreter": {
    "hash": "916dbcbb3f70747c44a77c7bcd40155683ae19c65e1c03b4aa3499c5328201f1"
   }
  }
 },
 "nbformat": 4,
 "nbformat_minor": 2
}
